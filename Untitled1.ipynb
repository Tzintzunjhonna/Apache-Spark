{
 "cells": [
  {
   "cell_type": "code",
   "execution_count": 23,
   "metadata": {},
   "outputs": [],
   "source": [
    "from pyspark import SparkContext\n",
    "from pyspark.rdd import RDD"
   ]
  },
  {
   "cell_type": "code",
   "execution_count": 2,
   "metadata": {},
   "outputs": [],
   "source": [
    "sc = SparkContext(master='local', appName=\"TransformacionesYAcciones\")"
   ]
  },
  {
   "cell_type": "code",
   "execution_count": 24,
   "metadata": {},
   "outputs": [
    {
     "data": {
      "text/plain": [
       "pyspark.rdd.RDD"
      ]
     },
     "execution_count": 24,
     "metadata": {},
     "output_type": "execute_result"
    }
   ],
   "source": [
    "rdd1 = sc.parallelize([1,2,3])\n",
    "type(rdd1)"
   ]
  },
  {
   "cell_type": "code",
   "execution_count": 25,
   "metadata": {},
   "outputs": [
    {
     "data": {
      "text/plain": [
       "[1, 2, 3]"
      ]
     },
     "execution_count": 25,
     "metadata": {},
     "output_type": "execute_result"
    }
   ],
   "source": [
    "rdd1.collect()"
   ]
  },
  {
   "cell_type": "code",
   "execution_count": 26,
   "metadata": {
    "scrolled": true
   },
   "outputs": [
    {
     "data": {
      "text/html": [
       "\n",
       "        <div>\n",
       "            <p><b>SparkContext</b></p>\n",
       "\n",
       "            <p><a href=\"http://10.0.2.15:4041\">Spark UI</a></p>\n",
       "\n",
       "            <dl>\n",
       "              <dt>Version</dt>\n",
       "                <dd><code>v2.4.7</code></dd>\n",
       "              <dt>Master</dt>\n",
       "                <dd><code>local</code></dd>\n",
       "              <dt>AppName</dt>\n",
       "                <dd><code>TransformacionesYAcciones</code></dd>\n",
       "            </dl>\n",
       "        </div>\n",
       "        "
      ],
      "text/plain": [
       "<SparkContext master=local appName=TransformacionesYAcciones>"
      ]
     },
     "execution_count": 26,
     "metadata": {},
     "output_type": "execute_result"
    }
   ],
   "source": [
    "sc"
   ]
  },
  {
   "cell_type": "code",
   "execution_count": 27,
   "metadata": {},
   "outputs": [
    {
     "data": {
      "text/plain": [
       "'/home/contreras/Descargas/Untitled Folder'"
      ]
     },
     "execution_count": 27,
     "metadata": {},
     "output_type": "execute_result"
    }
   ],
   "source": [
    "pwd"
   ]
  },
  {
   "cell_type": "code",
   "execution_count": 28,
   "metadata": {},
   "outputs": [
    {
     "name": "stdout",
     "output_type": "stream",
     "text": [
      "deporte.csv\t deportistaError.csv  modelo_relacional.jpg\r\n",
      "deportista2.csv  evento.csv\t      paises.csv\r\n",
      "deportista.csv\t juegos.csv\t      resultados.csv\r\n"
     ]
    }
   ],
   "source": [
    "!ls ./files/"
   ]
  },
  {
   "cell_type": "code",
   "execution_count": 29,
   "metadata": {},
   "outputs": [],
   "source": [
    "path = '/home/contreras/Descargas/Untitled Folder/files/'\n",
    "\n",
    "equiposOlimpicosRDD = sc.textFile(path+'paises.csv') \\\n",
    "    .map(lambda line: line.split(\",\"))"
   ]
  },
  {
   "cell_type": "code",
   "execution_count": 30,
   "metadata": {},
   "outputs": [
    {
     "ename": "Py4JJavaError",
     "evalue": "An error occurred while calling z:org.apache.spark.api.python.PythonRDD.runJob.\n: org.apache.spark.SparkException: Job aborted due to stage failure: Task 0 in stage 8.0 failed 1 times, most recent failure: Lost task 0.0 in stage 8.0 (TID 8, localhost, executor driver): org.apache.spark.SparkException: \nError from python worker:\n  Traceback (most recent call last):\n    File \"/usr/lib/python3.8/runpy.py\", line 185, in _run_module_as_main\n      mod_name, mod_spec, code = _get_module_details(mod_name, _Error)\n    File \"/usr/lib/python3.8/runpy.py\", line 111, in _get_module_details\n      __import__(pkg_name)\n    File \"<frozen importlib._bootstrap>\", line 991, in _find_and_load\n    File \"<frozen importlib._bootstrap>\", line 975, in _find_and_load_unlocked\n    File \"<frozen importlib._bootstrap>\", line 655, in _load_unlocked\n    File \"<frozen importlib._bootstrap>\", line 618, in _load_backward_compatible\n    File \"<frozen zipimport>\", line 259, in load_module\n    File \"/home/contreras/spark/python/lib/pyspark.zip/pyspark/__init__.py\", line 51, in <module>\n    File \"<frozen importlib._bootstrap>\", line 991, in _find_and_load\n    File \"<frozen importlib._bootstrap>\", line 975, in _find_and_load_unlocked\n    File \"<frozen importlib._bootstrap>\", line 655, in _load_unlocked\n    File \"<frozen importlib._bootstrap>\", line 618, in _load_backward_compatible\n    File \"<frozen zipimport>\", line 259, in load_module\n    File \"/home/contreras/spark/python/lib/pyspark.zip/pyspark/context.py\", line 31, in <module>\n    File \"<frozen importlib._bootstrap>\", line 991, in _find_and_load\n    File \"<frozen importlib._bootstrap>\", line 975, in _find_and_load_unlocked\n    File \"<frozen importlib._bootstrap>\", line 655, in _load_unlocked\n    File \"<frozen importlib._bootstrap>\", line 618, in _load_backward_compatible\n    File \"<frozen zipimport>\", line 259, in load_module\n    File \"/home/contreras/spark/python/lib/pyspark.zip/pyspark/accumulators.py\", line 97, in <module>\n    File \"<frozen importlib._bootstrap>\", line 991, in _find_and_load\n    File \"<frozen importlib._bootstrap>\", line 975, in _find_and_load_unlocked\n    File \"<frozen importlib._bootstrap>\", line 655, in _load_unlocked\n    File \"<frozen importlib._bootstrap>\", line 618, in _load_backward_compatible\n    File \"<frozen zipimport>\", line 259, in load_module\n    File \"/home/contreras/spark/python/lib/pyspark.zip/pyspark/serializers.py\", line 72, in <module>\n    File \"<frozen importlib._bootstrap>\", line 991, in _find_and_load\n    File \"<frozen importlib._bootstrap>\", line 975, in _find_and_load_unlocked\n    File \"<frozen importlib._bootstrap>\", line 655, in _load_unlocked\n    File \"<frozen importlib._bootstrap>\", line 618, in _load_backward_compatible\n    File \"<frozen zipimport>\", line 259, in load_module\n    File \"/home/contreras/spark/python/lib/pyspark.zip/pyspark/cloudpickle.py\", line 145, in <module>\n    File \"/home/contreras/spark/python/lib/pyspark.zip/pyspark/cloudpickle.py\", line 126, in _make_cell_set_template_code\n  TypeError: an integer is required (got type bytes)\nPYTHONPATH was:\n  /home/contreras/spark/python/lib/pyspark.zip:/home/contreras/spark/python/lib/py4j-0.10.7-src.zip:/home/contreras/spark/jars/spark-core_2.11-2.4.7.jar:/home/contreras/spark/python:\norg.apache.spark.SparkException: No port number in pyspark.daemon's stdout\n\tat org.apache.spark.api.python.PythonWorkerFactory.startDaemon(PythonWorkerFactory.scala:204)\n\tat org.apache.spark.api.python.PythonWorkerFactory.createThroughDaemon(PythonWorkerFactory.scala:122)\n\tat org.apache.spark.api.python.PythonWorkerFactory.create(PythonWorkerFactory.scala:95)\n\tat org.apache.spark.SparkEnv.createPythonWorker(SparkEnv.scala:117)\n\tat org.apache.spark.api.python.BasePythonRunner.compute(PythonRunner.scala:109)\n\tat org.apache.spark.api.python.PythonRDD.compute(PythonRDD.scala:65)\n\tat org.apache.spark.rdd.RDD.computeOrReadCheckpoint(RDD.scala:346)\n\tat org.apache.spark.rdd.RDD.iterator(RDD.scala:310)\n\tat org.apache.spark.scheduler.ResultTask.runTask(ResultTask.scala:90)\n\tat org.apache.spark.scheduler.Task.run(Task.scala:123)\n\tat org.apache.spark.executor.Executor$TaskRunner$$anonfun$10.apply(Executor.scala:408)\n\tat org.apache.spark.util.Utils$.tryWithSafeFinally(Utils.scala:1360)\n\tat org.apache.spark.executor.Executor$TaskRunner.run(Executor.scala:414)\n\tat java.util.concurrent.ThreadPoolExecutor.runWorker(ThreadPoolExecutor.java:1149)\n\tat java.util.concurrent.ThreadPoolExecutor$Worker.run(ThreadPoolExecutor.java:624)\n\tat java.lang.Thread.run(Thread.java:748)\n\nDriver stacktrace:\n\tat org.apache.spark.scheduler.DAGScheduler.org$apache$spark$scheduler$DAGScheduler$$failJobAndIndependentStages(DAGScheduler.scala:1925)\n\tat org.apache.spark.scheduler.DAGScheduler$$anonfun$abortStage$1.apply(DAGScheduler.scala:1913)\n\tat org.apache.spark.scheduler.DAGScheduler$$anonfun$abortStage$1.apply(DAGScheduler.scala:1912)\n\tat scala.collection.mutable.ResizableArray$class.foreach(ResizableArray.scala:59)\n\tat scala.collection.mutable.ArrayBuffer.foreach(ArrayBuffer.scala:48)\n\tat org.apache.spark.scheduler.DAGScheduler.abortStage(DAGScheduler.scala:1912)\n\tat org.apache.spark.scheduler.DAGScheduler$$anonfun$handleTaskSetFailed$1.apply(DAGScheduler.scala:948)\n\tat org.apache.spark.scheduler.DAGScheduler$$anonfun$handleTaskSetFailed$1.apply(DAGScheduler.scala:948)\n\tat scala.Option.foreach(Option.scala:257)\n\tat org.apache.spark.scheduler.DAGScheduler.handleTaskSetFailed(DAGScheduler.scala:948)\n\tat org.apache.spark.scheduler.DAGSchedulerEventProcessLoop.doOnReceive(DAGScheduler.scala:2146)\n\tat org.apache.spark.scheduler.DAGSchedulerEventProcessLoop.onReceive(DAGScheduler.scala:2095)\n\tat org.apache.spark.scheduler.DAGSchedulerEventProcessLoop.onReceive(DAGScheduler.scala:2084)\n\tat org.apache.spark.util.EventLoop$$anon$1.run(EventLoop.scala:49)\n\tat org.apache.spark.scheduler.DAGScheduler.runJob(DAGScheduler.scala:759)\n\tat org.apache.spark.SparkContext.runJob(SparkContext.scala:2061)\n\tat org.apache.spark.SparkContext.runJob(SparkContext.scala:2082)\n\tat org.apache.spark.SparkContext.runJob(SparkContext.scala:2101)\n\tat org.apache.spark.api.python.PythonRDD$.runJob(PythonRDD.scala:153)\n\tat org.apache.spark.api.python.PythonRDD.runJob(PythonRDD.scala)\n\tat sun.reflect.NativeMethodAccessorImpl.invoke0(Native Method)\n\tat sun.reflect.NativeMethodAccessorImpl.invoke(NativeMethodAccessorImpl.java:62)\n\tat sun.reflect.DelegatingMethodAccessorImpl.invoke(DelegatingMethodAccessorImpl.java:43)\n\tat java.lang.reflect.Method.invoke(Method.java:498)\n\tat py4j.reflection.MethodInvoker.invoke(MethodInvoker.java:244)\n\tat py4j.reflection.ReflectionEngine.invoke(ReflectionEngine.java:357)\n\tat py4j.Gateway.invoke(Gateway.java:282)\n\tat py4j.commands.AbstractCommand.invokeMethod(AbstractCommand.java:132)\n\tat py4j.commands.CallCommand.execute(CallCommand.java:79)\n\tat py4j.GatewayConnection.run(GatewayConnection.java:238)\n\tat java.lang.Thread.run(Thread.java:748)\nCaused by: org.apache.spark.SparkException: \nError from python worker:\n  Traceback (most recent call last):\n    File \"/usr/lib/python3.8/runpy.py\", line 185, in _run_module_as_main\n      mod_name, mod_spec, code = _get_module_details(mod_name, _Error)\n    File \"/usr/lib/python3.8/runpy.py\", line 111, in _get_module_details\n      __import__(pkg_name)\n    File \"<frozen importlib._bootstrap>\", line 991, in _find_and_load\n    File \"<frozen importlib._bootstrap>\", line 975, in _find_and_load_unlocked\n    File \"<frozen importlib._bootstrap>\", line 655, in _load_unlocked\n    File \"<frozen importlib._bootstrap>\", line 618, in _load_backward_compatible\n    File \"<frozen zipimport>\", line 259, in load_module\n    File \"/home/contreras/spark/python/lib/pyspark.zip/pyspark/__init__.py\", line 51, in <module>\n    File \"<frozen importlib._bootstrap>\", line 991, in _find_and_load\n    File \"<frozen importlib._bootstrap>\", line 975, in _find_and_load_unlocked\n    File \"<frozen importlib._bootstrap>\", line 655, in _load_unlocked\n    File \"<frozen importlib._bootstrap>\", line 618, in _load_backward_compatible\n    File \"<frozen zipimport>\", line 259, in load_module\n    File \"/home/contreras/spark/python/lib/pyspark.zip/pyspark/context.py\", line 31, in <module>\n    File \"<frozen importlib._bootstrap>\", line 991, in _find_and_load\n    File \"<frozen importlib._bootstrap>\", line 975, in _find_and_load_unlocked\n    File \"<frozen importlib._bootstrap>\", line 655, in _load_unlocked\n    File \"<frozen importlib._bootstrap>\", line 618, in _load_backward_compatible\n    File \"<frozen zipimport>\", line 259, in load_module\n    File \"/home/contreras/spark/python/lib/pyspark.zip/pyspark/accumulators.py\", line 97, in <module>\n    File \"<frozen importlib._bootstrap>\", line 991, in _find_and_load\n    File \"<frozen importlib._bootstrap>\", line 975, in _find_and_load_unlocked\n    File \"<frozen importlib._bootstrap>\", line 655, in _load_unlocked\n    File \"<frozen importlib._bootstrap>\", line 618, in _load_backward_compatible\n    File \"<frozen zipimport>\", line 259, in load_module\n    File \"/home/contreras/spark/python/lib/pyspark.zip/pyspark/serializers.py\", line 72, in <module>\n    File \"<frozen importlib._bootstrap>\", line 991, in _find_and_load\n    File \"<frozen importlib._bootstrap>\", line 975, in _find_and_load_unlocked\n    File \"<frozen importlib._bootstrap>\", line 655, in _load_unlocked\n    File \"<frozen importlib._bootstrap>\", line 618, in _load_backward_compatible\n    File \"<frozen zipimport>\", line 259, in load_module\n    File \"/home/contreras/spark/python/lib/pyspark.zip/pyspark/cloudpickle.py\", line 145, in <module>\n    File \"/home/contreras/spark/python/lib/pyspark.zip/pyspark/cloudpickle.py\", line 126, in _make_cell_set_template_code\n  TypeError: an integer is required (got type bytes)\nPYTHONPATH was:\n  /home/contreras/spark/python/lib/pyspark.zip:/home/contreras/spark/python/lib/py4j-0.10.7-src.zip:/home/contreras/spark/jars/spark-core_2.11-2.4.7.jar:/home/contreras/spark/python:\norg.apache.spark.SparkException: No port number in pyspark.daemon's stdout\n\tat org.apache.spark.api.python.PythonWorkerFactory.startDaemon(PythonWorkerFactory.scala:204)\n\tat org.apache.spark.api.python.PythonWorkerFactory.createThroughDaemon(PythonWorkerFactory.scala:122)\n\tat org.apache.spark.api.python.PythonWorkerFactory.create(PythonWorkerFactory.scala:95)\n\tat org.apache.spark.SparkEnv.createPythonWorker(SparkEnv.scala:117)\n\tat org.apache.spark.api.python.BasePythonRunner.compute(PythonRunner.scala:109)\n\tat org.apache.spark.api.python.PythonRDD.compute(PythonRDD.scala:65)\n\tat org.apache.spark.rdd.RDD.computeOrReadCheckpoint(RDD.scala:346)\n\tat org.apache.spark.rdd.RDD.iterator(RDD.scala:310)\n\tat org.apache.spark.scheduler.ResultTask.runTask(ResultTask.scala:90)\n\tat org.apache.spark.scheduler.Task.run(Task.scala:123)\n\tat org.apache.spark.executor.Executor$TaskRunner$$anonfun$10.apply(Executor.scala:408)\n\tat org.apache.spark.util.Utils$.tryWithSafeFinally(Utils.scala:1360)\n\tat org.apache.spark.executor.Executor$TaskRunner.run(Executor.scala:414)\n\tat java.util.concurrent.ThreadPoolExecutor.runWorker(ThreadPoolExecutor.java:1149)\n\tat java.util.concurrent.ThreadPoolExecutor$Worker.run(ThreadPoolExecutor.java:624)\n\t... 1 more\n",
     "output_type": "error",
     "traceback": [
      "\u001b[0;31m---------------------------------------------------------------------------\u001b[0m",
      "\u001b[0;31mPy4JJavaError\u001b[0m                             Traceback (most recent call last)",
      "\u001b[0;32m<ipython-input-30-4ff3da037533>\u001b[0m in \u001b[0;36m<module>\u001b[0;34m\u001b[0m\n\u001b[0;32m----> 1\u001b[0;31m \u001b[0mequiposOlimpicosRDD\u001b[0m\u001b[0;34m.\u001b[0m\u001b[0mtake\u001b[0m\u001b[0;34m(\u001b[0m\u001b[0;36m5\u001b[0m\u001b[0;34m)\u001b[0m\u001b[0;34m\u001b[0m\u001b[0;34m\u001b[0m\u001b[0m\n\u001b[0m\u001b[1;32m      2\u001b[0m \u001b[0msc\u001b[0m\u001b[0;34m.\u001b[0m\u001b[0mstop\u001b[0m\u001b[0;34m(\u001b[0m\u001b[0;34m)\u001b[0m\u001b[0;34m\u001b[0m\u001b[0;34m\u001b[0m\u001b[0m\n",
      "\u001b[0;32m~/spark/python/pyspark/rdd.py\u001b[0m in \u001b[0;36mtake\u001b[0;34m(self, num)\u001b[0m\n\u001b[1;32m   1358\u001b[0m \u001b[0;34m\u001b[0m\u001b[0m\n\u001b[1;32m   1359\u001b[0m             \u001b[0mp\u001b[0m \u001b[0;34m=\u001b[0m \u001b[0mrange\u001b[0m\u001b[0;34m(\u001b[0m\u001b[0mpartsScanned\u001b[0m\u001b[0;34m,\u001b[0m \u001b[0mmin\u001b[0m\u001b[0;34m(\u001b[0m\u001b[0mpartsScanned\u001b[0m \u001b[0;34m+\u001b[0m \u001b[0mnumPartsToTry\u001b[0m\u001b[0;34m,\u001b[0m \u001b[0mtotalParts\u001b[0m\u001b[0;34m)\u001b[0m\u001b[0;34m)\u001b[0m\u001b[0;34m\u001b[0m\u001b[0;34m\u001b[0m\u001b[0m\n\u001b[0;32m-> 1360\u001b[0;31m             \u001b[0mres\u001b[0m \u001b[0;34m=\u001b[0m \u001b[0mself\u001b[0m\u001b[0;34m.\u001b[0m\u001b[0mcontext\u001b[0m\u001b[0;34m.\u001b[0m\u001b[0mrunJob\u001b[0m\u001b[0;34m(\u001b[0m\u001b[0mself\u001b[0m\u001b[0;34m,\u001b[0m \u001b[0mtakeUpToNumLeft\u001b[0m\u001b[0;34m,\u001b[0m \u001b[0mp\u001b[0m\u001b[0;34m)\u001b[0m\u001b[0;34m\u001b[0m\u001b[0;34m\u001b[0m\u001b[0m\n\u001b[0m\u001b[1;32m   1361\u001b[0m \u001b[0;34m\u001b[0m\u001b[0m\n\u001b[1;32m   1362\u001b[0m             \u001b[0mitems\u001b[0m \u001b[0;34m+=\u001b[0m \u001b[0mres\u001b[0m\u001b[0;34m\u001b[0m\u001b[0;34m\u001b[0m\u001b[0m\n",
      "\u001b[0;32m~/spark/python/pyspark/context.py\u001b[0m in \u001b[0;36mrunJob\u001b[0;34m(self, rdd, partitionFunc, partitions, allowLocal)\u001b[0m\n\u001b[1;32m   1067\u001b[0m         \u001b[0;31m# SparkContext#runJob.\u001b[0m\u001b[0;34m\u001b[0m\u001b[0;34m\u001b[0m\u001b[0;34m\u001b[0m\u001b[0m\n\u001b[1;32m   1068\u001b[0m         \u001b[0mmappedRDD\u001b[0m \u001b[0;34m=\u001b[0m \u001b[0mrdd\u001b[0m\u001b[0;34m.\u001b[0m\u001b[0mmapPartitions\u001b[0m\u001b[0;34m(\u001b[0m\u001b[0mpartitionFunc\u001b[0m\u001b[0;34m)\u001b[0m\u001b[0;34m\u001b[0m\u001b[0;34m\u001b[0m\u001b[0m\n\u001b[0;32m-> 1069\u001b[0;31m         \u001b[0msock_info\u001b[0m \u001b[0;34m=\u001b[0m \u001b[0mself\u001b[0m\u001b[0;34m.\u001b[0m\u001b[0m_jvm\u001b[0m\u001b[0;34m.\u001b[0m\u001b[0mPythonRDD\u001b[0m\u001b[0;34m.\u001b[0m\u001b[0mrunJob\u001b[0m\u001b[0;34m(\u001b[0m\u001b[0mself\u001b[0m\u001b[0;34m.\u001b[0m\u001b[0m_jsc\u001b[0m\u001b[0;34m.\u001b[0m\u001b[0msc\u001b[0m\u001b[0;34m(\u001b[0m\u001b[0;34m)\u001b[0m\u001b[0;34m,\u001b[0m \u001b[0mmappedRDD\u001b[0m\u001b[0;34m.\u001b[0m\u001b[0m_jrdd\u001b[0m\u001b[0;34m,\u001b[0m \u001b[0mpartitions\u001b[0m\u001b[0;34m)\u001b[0m\u001b[0;34m\u001b[0m\u001b[0;34m\u001b[0m\u001b[0m\n\u001b[0m\u001b[1;32m   1070\u001b[0m         \u001b[0;32mreturn\u001b[0m \u001b[0mlist\u001b[0m\u001b[0;34m(\u001b[0m\u001b[0m_load_from_socket\u001b[0m\u001b[0;34m(\u001b[0m\u001b[0msock_info\u001b[0m\u001b[0;34m,\u001b[0m \u001b[0mmappedRDD\u001b[0m\u001b[0;34m.\u001b[0m\u001b[0m_jrdd_deserializer\u001b[0m\u001b[0;34m)\u001b[0m\u001b[0;34m)\u001b[0m\u001b[0;34m\u001b[0m\u001b[0;34m\u001b[0m\u001b[0m\n\u001b[1;32m   1071\u001b[0m \u001b[0;34m\u001b[0m\u001b[0m\n",
      "\u001b[0;32m~/anaconda3/lib/python3.7/site-packages/py4j/java_gateway.py\u001b[0m in \u001b[0;36m__call__\u001b[0;34m(self, *args)\u001b[0m\n\u001b[1;32m   1303\u001b[0m         \u001b[0manswer\u001b[0m \u001b[0;34m=\u001b[0m \u001b[0mself\u001b[0m\u001b[0;34m.\u001b[0m\u001b[0mgateway_client\u001b[0m\u001b[0;34m.\u001b[0m\u001b[0msend_command\u001b[0m\u001b[0;34m(\u001b[0m\u001b[0mcommand\u001b[0m\u001b[0;34m)\u001b[0m\u001b[0;34m\u001b[0m\u001b[0;34m\u001b[0m\u001b[0m\n\u001b[1;32m   1304\u001b[0m         return_value = get_return_value(\n\u001b[0;32m-> 1305\u001b[0;31m             answer, self.gateway_client, self.target_id, self.name)\n\u001b[0m\u001b[1;32m   1306\u001b[0m \u001b[0;34m\u001b[0m\u001b[0m\n\u001b[1;32m   1307\u001b[0m         \u001b[0;32mfor\u001b[0m \u001b[0mtemp_arg\u001b[0m \u001b[0;32min\u001b[0m \u001b[0mtemp_args\u001b[0m\u001b[0;34m:\u001b[0m\u001b[0;34m\u001b[0m\u001b[0;34m\u001b[0m\u001b[0m\n",
      "\u001b[0;32m~/anaconda3/lib/python3.7/site-packages/py4j/protocol.py\u001b[0m in \u001b[0;36mget_return_value\u001b[0;34m(answer, gateway_client, target_id, name)\u001b[0m\n\u001b[1;32m    326\u001b[0m                 raise Py4JJavaError(\n\u001b[1;32m    327\u001b[0m                     \u001b[0;34m\"An error occurred while calling {0}{1}{2}.\\n\"\u001b[0m\u001b[0;34m.\u001b[0m\u001b[0;34m\u001b[0m\u001b[0;34m\u001b[0m\u001b[0m\n\u001b[0;32m--> 328\u001b[0;31m                     format(target_id, \".\", name), value)\n\u001b[0m\u001b[1;32m    329\u001b[0m             \u001b[0;32melse\u001b[0m\u001b[0;34m:\u001b[0m\u001b[0;34m\u001b[0m\u001b[0;34m\u001b[0m\u001b[0m\n\u001b[1;32m    330\u001b[0m                 raise Py4JError(\n",
      "\u001b[0;31mPy4JJavaError\u001b[0m: An error occurred while calling z:org.apache.spark.api.python.PythonRDD.runJob.\n: org.apache.spark.SparkException: Job aborted due to stage failure: Task 0 in stage 8.0 failed 1 times, most recent failure: Lost task 0.0 in stage 8.0 (TID 8, localhost, executor driver): org.apache.spark.SparkException: \nError from python worker:\n  Traceback (most recent call last):\n    File \"/usr/lib/python3.8/runpy.py\", line 185, in _run_module_as_main\n      mod_name, mod_spec, code = _get_module_details(mod_name, _Error)\n    File \"/usr/lib/python3.8/runpy.py\", line 111, in _get_module_details\n      __import__(pkg_name)\n    File \"<frozen importlib._bootstrap>\", line 991, in _find_and_load\n    File \"<frozen importlib._bootstrap>\", line 975, in _find_and_load_unlocked\n    File \"<frozen importlib._bootstrap>\", line 655, in _load_unlocked\n    File \"<frozen importlib._bootstrap>\", line 618, in _load_backward_compatible\n    File \"<frozen zipimport>\", line 259, in load_module\n    File \"/home/contreras/spark/python/lib/pyspark.zip/pyspark/__init__.py\", line 51, in <module>\n    File \"<frozen importlib._bootstrap>\", line 991, in _find_and_load\n    File \"<frozen importlib._bootstrap>\", line 975, in _find_and_load_unlocked\n    File \"<frozen importlib._bootstrap>\", line 655, in _load_unlocked\n    File \"<frozen importlib._bootstrap>\", line 618, in _load_backward_compatible\n    File \"<frozen zipimport>\", line 259, in load_module\n    File \"/home/contreras/spark/python/lib/pyspark.zip/pyspark/context.py\", line 31, in <module>\n    File \"<frozen importlib._bootstrap>\", line 991, in _find_and_load\n    File \"<frozen importlib._bootstrap>\", line 975, in _find_and_load_unlocked\n    File \"<frozen importlib._bootstrap>\", line 655, in _load_unlocked\n    File \"<frozen importlib._bootstrap>\", line 618, in _load_backward_compatible\n    File \"<frozen zipimport>\", line 259, in load_module\n    File \"/home/contreras/spark/python/lib/pyspark.zip/pyspark/accumulators.py\", line 97, in <module>\n    File \"<frozen importlib._bootstrap>\", line 991, in _find_and_load\n    File \"<frozen importlib._bootstrap>\", line 975, in _find_and_load_unlocked\n    File \"<frozen importlib._bootstrap>\", line 655, in _load_unlocked\n    File \"<frozen importlib._bootstrap>\", line 618, in _load_backward_compatible\n    File \"<frozen zipimport>\", line 259, in load_module\n    File \"/home/contreras/spark/python/lib/pyspark.zip/pyspark/serializers.py\", line 72, in <module>\n    File \"<frozen importlib._bootstrap>\", line 991, in _find_and_load\n    File \"<frozen importlib._bootstrap>\", line 975, in _find_and_load_unlocked\n    File \"<frozen importlib._bootstrap>\", line 655, in _load_unlocked\n    File \"<frozen importlib._bootstrap>\", line 618, in _load_backward_compatible\n    File \"<frozen zipimport>\", line 259, in load_module\n    File \"/home/contreras/spark/python/lib/pyspark.zip/pyspark/cloudpickle.py\", line 145, in <module>\n    File \"/home/contreras/spark/python/lib/pyspark.zip/pyspark/cloudpickle.py\", line 126, in _make_cell_set_template_code\n  TypeError: an integer is required (got type bytes)\nPYTHONPATH was:\n  /home/contreras/spark/python/lib/pyspark.zip:/home/contreras/spark/python/lib/py4j-0.10.7-src.zip:/home/contreras/spark/jars/spark-core_2.11-2.4.7.jar:/home/contreras/spark/python:\norg.apache.spark.SparkException: No port number in pyspark.daemon's stdout\n\tat org.apache.spark.api.python.PythonWorkerFactory.startDaemon(PythonWorkerFactory.scala:204)\n\tat org.apache.spark.api.python.PythonWorkerFactory.createThroughDaemon(PythonWorkerFactory.scala:122)\n\tat org.apache.spark.api.python.PythonWorkerFactory.create(PythonWorkerFactory.scala:95)\n\tat org.apache.spark.SparkEnv.createPythonWorker(SparkEnv.scala:117)\n\tat org.apache.spark.api.python.BasePythonRunner.compute(PythonRunner.scala:109)\n\tat org.apache.spark.api.python.PythonRDD.compute(PythonRDD.scala:65)\n\tat org.apache.spark.rdd.RDD.computeOrReadCheckpoint(RDD.scala:346)\n\tat org.apache.spark.rdd.RDD.iterator(RDD.scala:310)\n\tat org.apache.spark.scheduler.ResultTask.runTask(ResultTask.scala:90)\n\tat org.apache.spark.scheduler.Task.run(Task.scala:123)\n\tat org.apache.spark.executor.Executor$TaskRunner$$anonfun$10.apply(Executor.scala:408)\n\tat org.apache.spark.util.Utils$.tryWithSafeFinally(Utils.scala:1360)\n\tat org.apache.spark.executor.Executor$TaskRunner.run(Executor.scala:414)\n\tat java.util.concurrent.ThreadPoolExecutor.runWorker(ThreadPoolExecutor.java:1149)\n\tat java.util.concurrent.ThreadPoolExecutor$Worker.run(ThreadPoolExecutor.java:624)\n\tat java.lang.Thread.run(Thread.java:748)\n\nDriver stacktrace:\n\tat org.apache.spark.scheduler.DAGScheduler.org$apache$spark$scheduler$DAGScheduler$$failJobAndIndependentStages(DAGScheduler.scala:1925)\n\tat org.apache.spark.scheduler.DAGScheduler$$anonfun$abortStage$1.apply(DAGScheduler.scala:1913)\n\tat org.apache.spark.scheduler.DAGScheduler$$anonfun$abortStage$1.apply(DAGScheduler.scala:1912)\n\tat scala.collection.mutable.ResizableArray$class.foreach(ResizableArray.scala:59)\n\tat scala.collection.mutable.ArrayBuffer.foreach(ArrayBuffer.scala:48)\n\tat org.apache.spark.scheduler.DAGScheduler.abortStage(DAGScheduler.scala:1912)\n\tat org.apache.spark.scheduler.DAGScheduler$$anonfun$handleTaskSetFailed$1.apply(DAGScheduler.scala:948)\n\tat org.apache.spark.scheduler.DAGScheduler$$anonfun$handleTaskSetFailed$1.apply(DAGScheduler.scala:948)\n\tat scala.Option.foreach(Option.scala:257)\n\tat org.apache.spark.scheduler.DAGScheduler.handleTaskSetFailed(DAGScheduler.scala:948)\n\tat org.apache.spark.scheduler.DAGSchedulerEventProcessLoop.doOnReceive(DAGScheduler.scala:2146)\n\tat org.apache.spark.scheduler.DAGSchedulerEventProcessLoop.onReceive(DAGScheduler.scala:2095)\n\tat org.apache.spark.scheduler.DAGSchedulerEventProcessLoop.onReceive(DAGScheduler.scala:2084)\n\tat org.apache.spark.util.EventLoop$$anon$1.run(EventLoop.scala:49)\n\tat org.apache.spark.scheduler.DAGScheduler.runJob(DAGScheduler.scala:759)\n\tat org.apache.spark.SparkContext.runJob(SparkContext.scala:2061)\n\tat org.apache.spark.SparkContext.runJob(SparkContext.scala:2082)\n\tat org.apache.spark.SparkContext.runJob(SparkContext.scala:2101)\n\tat org.apache.spark.api.python.PythonRDD$.runJob(PythonRDD.scala:153)\n\tat org.apache.spark.api.python.PythonRDD.runJob(PythonRDD.scala)\n\tat sun.reflect.NativeMethodAccessorImpl.invoke0(Native Method)\n\tat sun.reflect.NativeMethodAccessorImpl.invoke(NativeMethodAccessorImpl.java:62)\n\tat sun.reflect.DelegatingMethodAccessorImpl.invoke(DelegatingMethodAccessorImpl.java:43)\n\tat java.lang.reflect.Method.invoke(Method.java:498)\n\tat py4j.reflection.MethodInvoker.invoke(MethodInvoker.java:244)\n\tat py4j.reflection.ReflectionEngine.invoke(ReflectionEngine.java:357)\n\tat py4j.Gateway.invoke(Gateway.java:282)\n\tat py4j.commands.AbstractCommand.invokeMethod(AbstractCommand.java:132)\n\tat py4j.commands.CallCommand.execute(CallCommand.java:79)\n\tat py4j.GatewayConnection.run(GatewayConnection.java:238)\n\tat java.lang.Thread.run(Thread.java:748)\nCaused by: org.apache.spark.SparkException: \nError from python worker:\n  Traceback (most recent call last):\n    File \"/usr/lib/python3.8/runpy.py\", line 185, in _run_module_as_main\n      mod_name, mod_spec, code = _get_module_details(mod_name, _Error)\n    File \"/usr/lib/python3.8/runpy.py\", line 111, in _get_module_details\n      __import__(pkg_name)\n    File \"<frozen importlib._bootstrap>\", line 991, in _find_and_load\n    File \"<frozen importlib._bootstrap>\", line 975, in _find_and_load_unlocked\n    File \"<frozen importlib._bootstrap>\", line 655, in _load_unlocked\n    File \"<frozen importlib._bootstrap>\", line 618, in _load_backward_compatible\n    File \"<frozen zipimport>\", line 259, in load_module\n    File \"/home/contreras/spark/python/lib/pyspark.zip/pyspark/__init__.py\", line 51, in <module>\n    File \"<frozen importlib._bootstrap>\", line 991, in _find_and_load\n    File \"<frozen importlib._bootstrap>\", line 975, in _find_and_load_unlocked\n    File \"<frozen importlib._bootstrap>\", line 655, in _load_unlocked\n    File \"<frozen importlib._bootstrap>\", line 618, in _load_backward_compatible\n    File \"<frozen zipimport>\", line 259, in load_module\n    File \"/home/contreras/spark/python/lib/pyspark.zip/pyspark/context.py\", line 31, in <module>\n    File \"<frozen importlib._bootstrap>\", line 991, in _find_and_load\n    File \"<frozen importlib._bootstrap>\", line 975, in _find_and_load_unlocked\n    File \"<frozen importlib._bootstrap>\", line 655, in _load_unlocked\n    File \"<frozen importlib._bootstrap>\", line 618, in _load_backward_compatible\n    File \"<frozen zipimport>\", line 259, in load_module\n    File \"/home/contreras/spark/python/lib/pyspark.zip/pyspark/accumulators.py\", line 97, in <module>\n    File \"<frozen importlib._bootstrap>\", line 991, in _find_and_load\n    File \"<frozen importlib._bootstrap>\", line 975, in _find_and_load_unlocked\n    File \"<frozen importlib._bootstrap>\", line 655, in _load_unlocked\n    File \"<frozen importlib._bootstrap>\", line 618, in _load_backward_compatible\n    File \"<frozen zipimport>\", line 259, in load_module\n    File \"/home/contreras/spark/python/lib/pyspark.zip/pyspark/serializers.py\", line 72, in <module>\n    File \"<frozen importlib._bootstrap>\", line 991, in _find_and_load\n    File \"<frozen importlib._bootstrap>\", line 975, in _find_and_load_unlocked\n    File \"<frozen importlib._bootstrap>\", line 655, in _load_unlocked\n    File \"<frozen importlib._bootstrap>\", line 618, in _load_backward_compatible\n    File \"<frozen zipimport>\", line 259, in load_module\n    File \"/home/contreras/spark/python/lib/pyspark.zip/pyspark/cloudpickle.py\", line 145, in <module>\n    File \"/home/contreras/spark/python/lib/pyspark.zip/pyspark/cloudpickle.py\", line 126, in _make_cell_set_template_code\n  TypeError: an integer is required (got type bytes)\nPYTHONPATH was:\n  /home/contreras/spark/python/lib/pyspark.zip:/home/contreras/spark/python/lib/py4j-0.10.7-src.zip:/home/contreras/spark/jars/spark-core_2.11-2.4.7.jar:/home/contreras/spark/python:\norg.apache.spark.SparkException: No port number in pyspark.daemon's stdout\n\tat org.apache.spark.api.python.PythonWorkerFactory.startDaemon(PythonWorkerFactory.scala:204)\n\tat org.apache.spark.api.python.PythonWorkerFactory.createThroughDaemon(PythonWorkerFactory.scala:122)\n\tat org.apache.spark.api.python.PythonWorkerFactory.create(PythonWorkerFactory.scala:95)\n\tat org.apache.spark.SparkEnv.createPythonWorker(SparkEnv.scala:117)\n\tat org.apache.spark.api.python.BasePythonRunner.compute(PythonRunner.scala:109)\n\tat org.apache.spark.api.python.PythonRDD.compute(PythonRDD.scala:65)\n\tat org.apache.spark.rdd.RDD.computeOrReadCheckpoint(RDD.scala:346)\n\tat org.apache.spark.rdd.RDD.iterator(RDD.scala:310)\n\tat org.apache.spark.scheduler.ResultTask.runTask(ResultTask.scala:90)\n\tat org.apache.spark.scheduler.Task.run(Task.scala:123)\n\tat org.apache.spark.executor.Executor$TaskRunner$$anonfun$10.apply(Executor.scala:408)\n\tat org.apache.spark.util.Utils$.tryWithSafeFinally(Utils.scala:1360)\n\tat org.apache.spark.executor.Executor$TaskRunner.run(Executor.scala:414)\n\tat java.util.concurrent.ThreadPoolExecutor.runWorker(ThreadPoolExecutor.java:1149)\n\tat java.util.concurrent.ThreadPoolExecutor$Worker.run(ThreadPoolExecutor.java:624)\n\t... 1 more\n"
     ]
    }
   ],
   "source": [
    "equiposOlimpicosRDD.take(5)\n",
    "sc.stop()"
   ]
  }
 ],
 "metadata": {
  "kernelspec": {
   "display_name": "Python 3",
   "language": "python",
   "name": "python3"
  },
  "language_info": {
   "codemirror_mode": {
    "name": "ipython",
    "version": 3
   },
   "file_extension": ".py",
   "mimetype": "text/x-python",
   "name": "python",
   "nbconvert_exporter": "python",
   "pygments_lexer": "ipython3",
   "version": "3.7.6"
  }
 },
 "nbformat": 4,
 "nbformat_minor": 4
}
